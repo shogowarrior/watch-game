{
 "cells": [
  {
   "cell_type": "code",
   "execution_count": null,
   "metadata": {
    "vscode": {
     "languageId": "python"
    }
   },
   "outputs": [],
   "source": []
  },
  {
   "cell_type": "code",
   "execution_count": 2,
   "metadata": {
    "vscode": {
     "languageId": "python"
    }
   },
   "outputs": [
    {
     "name": "stdout",
     "output_type": "stream",
     "text": [
      "usage: %esptool [--port PORT] {erase,esp32,esp8266} [binfile]\n",
      "\n",
      "positional arguments:\n",
      "  {erase,esp32,esp8266}\n",
      "  binfile\n",
      "\n",
      "options:\n",
      "  --port PORT\n",
      "Please download the bin file from https://micropython.org/download/#"
     ]
    }
   ],
   "source": [
    "%esptool  --port /dev/cu.usbserial-02215408 erase"
   ]
  },
  {
   "cell_type": "code",
   "execution_count": 3,
   "metadata": {
    "vscode": {
     "languageId": "python"
    }
   },
   "outputs": [
    {
     "name": "stdout",
     "output_type": "stream",
     "text": [
      "usage: %esptool [--port PORT] {erase,esp32,esp8266} [binfile]\n",
      "\n",
      "positional arguments:\n",
      "  {erase,esp32,esp8266}\n",
      "  binfile\n",
      "\n",
      "options:\n",
      "  --port PORT\n",
      "Please download the bin file from https://micropython.org/download/#"
     ]
    }
   ],
   "source": [
    "%esptool dd --port /dev/cu.usbserial-02215408 esp32  /Users/abhinabray/Downloads/firmware.bin"
   ]
  }
 ],
 "metadata": {
  "kernelspec": {
   "display_name": "MicroPython - USB",
   "language": "micropython",
   "name": "micropython"
  },
  "language_info": {
   "codemirror_mode": "python",
   "file_extension": ".py",
   "mimetype": "text/python",
   "name": "micropython"
  }
 },
 "nbformat": 4,
 "nbformat_minor": 2
}
