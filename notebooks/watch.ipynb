{
 "cells": [
  {
   "cell_type": "markdown",
   "metadata": {},
   "source": [
    "#### Setup"
   ]
  },
  {
   "cell_type": "code",
   "execution_count": null,
   "metadata": {
    "vscode": {
     "languageId": "python"
    }
   },
   "outputs": [],
   "source": [
    "%rebootdevice"
   ]
  },
  {
   "cell_type": "code",
   "execution_count": null,
   "metadata": {
    "vscode": {
     "languageId": "python"
    }
   },
   "outputs": [],
   "source": [
    "%disconnect"
   ]
  },
  {
   "cell_type": "markdown",
   "metadata": {},
   "source": [
    "#### Connect board (wlan)"
   ]
  },
  {
   "cell_type": "code",
   "execution_count": null,
   "metadata": {
    "vscode": {
     "languageId": "python"
    }
   },
   "outputs": [],
   "source": [
    "%websocketconnect --raw   ws://192.168.0.202:8266 --password pass"
   ]
  },
  {
   "cell_type": "markdown",
   "metadata": {},
   "source": [
    "#### Connect board"
   ]
  },
  {
   "cell_type": "code",
   "execution_count": 3,
   "metadata": {
    "vscode": {
     "languageId": "python"
    }
   },
   "outputs": [
    {
     "name": "stdout",
     "output_type": "stream",
     "text": [
      "\u001b[34mConnecting to --port=/dev/cu.usbserial-02215408 --baud=115200 \u001b[0m\n",
      "\u001b[34mReady.\n",
      "\u001b[0m"
     ]
    }
   ],
   "source": [
    "%serialconnect --port /dev/cu.usbserial-02215408"
   ]
  },
  {
   "cell_type": "markdown",
   "metadata": {},
   "source": [
    "#### Setup watch"
   ]
  },
  {
   "cell_type": "code",
   "execution_count": 3,
   "metadata": {
    "vscode": {
     "languageId": "python"
    }
   },
   "outputs": [
    {
     "name": "stdout",
     "output_type": "stream",
     "text": [
      "* initializing pins\n",
      "* initializing i2c\n",
      "* initializing mpu\n",
      "* Detect PMU Type is AXP202\n"
     ]
    }
   ],
   "source": [
    "from machine import Pin, SPI # type: ignore\n",
    "import axp202c\n",
    "import st7789\n",
    "\n",
    "TFA = 0\n",
    "BFA = 80\n",
    "\n",
    "# Enable Power management\n",
    "axp = axp202c.PMU()\n",
    "axp.enablePower(axp202c.AXP202_LDO2)\n",
    "\n",
    "tft = st7789.ST7789(\n",
    "    SPI(1, baudrate=32000000, sck=Pin(18, Pin.OUT), mosi=Pin(19, Pin.OUT)),\n",
    "    240,\n",
    "    240,\n",
    "    cs=Pin(5, Pin.OUT),\n",
    "    dc=Pin(27, Pin.OUT),\n",
    "    backlight=Pin(12, Pin.OUT),\n",
    "    rotation=2,\n",
    "    options=0,\n",
    "    buffer_size=0)\n",
    "tft.init()"
   ]
  },
  {
   "cell_type": "markdown",
   "metadata": {
    "vscode": {
     "languageId": "python"
    }
   },
   "source": [
    "#### Power management"
   ]
  },
  {
   "cell_type": "code",
   "execution_count": null,
   "metadata": {
    "vscode": {
     "languageId": "python"
    }
   },
   "outputs": [],
   "source": [
    "import sys\n",
    "import time\n",
    "\n",
    "tft.off()\n",
    "prev_power = 0\n",
    "while True:\n",
    "    curr_power = axp.getBattPercentage()\n",
    "    if curr_power != prev_power:\n",
    "        print(f\"Power: {curr_power}\")\n",
    "    time.sleep(3)\n",
    "    prev_power = curr_power"
   ]
  },
  {
   "cell_type": "markdown",
   "metadata": {},
   "source": [
    "#### Radar ui"
   ]
  },
  {
   "cell_type": "code",
   "execution_count": null,
   "metadata": {
    "vscode": {
     "languageId": "python"
    }
   },
   "outputs": [],
   "source": [
    "import time\n",
    "import vga1_16x16 as font\n",
    "from machine import I2C, Pin\n",
    "from math import sqrt\n",
    "from bma423 import BMA423\n",
    "\n",
    "# Clear screen\n",
    "tft.fill(st7789.BLACK)\n",
    "\n",
    "# 1. Make Circle\n",
    "tft.circle(120, 120, 100, st7789.GREEN)\n",
    "tft.circle(120, 120, 50, st7789.YELLOW)\n",
    "\n",
    "# 2. Add X, Y line\n",
    "tft.hline(0, 120, 240, st7789.BLUE)\n",
    "tft.vline(120, 0, 240, st7789.BLUE)\n",
    "tft.text(font, \"X\", 220, 130, st7789.RED)\n",
    "tft.text(font, \"Y\", 130, 10, st7789.RED)\n",
    "\n",
    "# 3. Create arrow line to point to original location\n",
    "\n",
    "\n",
    "# 4. BMA location coordinations in X, Y\n",
    "# Initialize I2C (T-Watch default pins: scl=22, sda=21)\n",
    "i2c = I2C(1, scl=Pin(22), sda=Pin(21))\n",
    "# Initialize BMA423\n",
    "sensor = BMA423(i2c)\n",
    "\n",
    "# Variables for velocity and displacement\n",
    "vx, vy, vz = 0, 0, 0\n",
    "x_pos, y_pos, z_pos = 0, 0, 0\n",
    "prev_time = time.ticks_ms()\n",
    "threshold = 0.1  # Define a threshold for movement detection\n",
    "\n",
    "# Main loop to calculate movement\n",
    "while True:\n",
    "    # Get current time\n",
    "    current_time = time.ticks_ms()\n",
    "    dt = time.ticks_diff(current_time, prev_time) / 1000  # Convert to seconds\n",
    "\n",
    "    # Read accelerometer data (in mg)\n",
    "    ax, ay, az = sensor.get_xyz()\n",
    "\n",
    "    # Convert from mg to cm/s²\n",
    "    ax= (ax * 981) / 1000\n",
    "    ay = (ay * 981) / 1000\n",
    "    az = (az * 981) / 1000\n",
    "\n",
    "    print(f\"Accelaration: X={ax:.2f}, Y={ay:.2f}, Z={az:.2f} (m/s2)\")\n",
    "\n",
    "    # Apply threshold to reduce noise\n",
    "    if abs(ax) < threshold:\n",
    "        ax = 0\n",
    "    if abs(ay) < threshold:\n",
    "        ay = 0\n",
    "    if abs(az) < threshold:\n",
    "        az = 0\n",
    "\n",
    "    # Total acceleration (magnitude)\n",
    "    total_accel = sqrt(ax**2 + ay**2 + az**2)\n",
    "    print(f\"Total Acceleration: {total_accel:.2f} m/s^2\")\n",
    "\n",
    "    # # If total acceleration is below the threshold, reset velocities\n",
    "    # if total_accel < 0.1:\n",
    "    #     vx, vy, vz = 0, 0, 0\n",
    "    # else:\n",
    "    # Estimate velocity (v = v0 + a * dt)\n",
    "    vx += ax * dt\n",
    "    vy += ay * dt\n",
    "    vz += az * dt\n",
    "\n",
    "    # Estimate displacement (x = x0 + v * dt)\n",
    "    x_pos += vx * dt\n",
    "    y_pos += vy * dt\n",
    "    z_pos += vz * dt\n",
    "\n",
    "    print(f\"Velocity: X={vx:.2f}, Y={vy:.2f}, Z={vz:.2f} (m/s)\")\n",
    "    print(f\"Position: X={x_pos:.2f}, Y={y_pos:.2f}, Z={z_pos:.2f} (m)\")\n",
    "\n",
    "    # Update previous time\n",
    "    prev_time = current_time\n",
    "\n",
    "    time.sleep(0.1)  # Sleep for a short duration"
   ]
  },
  {
   "cell_type": "markdown",
   "metadata": {},
   "source": [
    "#### Test display"
   ]
  },
  {
   "cell_type": "code",
   "execution_count": 4,
   "metadata": {
    "vscode": {
     "languageId": "python"
    }
   },
   "outputs": [
    {
     "name": "stdout",
     "output_type": "stream",
     "text": [
      "....."
     ]
    }
   ],
   "source": [
    "import random\n",
    "import time\n",
    "\n",
    "# Clear screen\n",
    "tft.fill(st7789.BLACK)\n",
    "\n",
    "# Fill screen random\n",
    "for x in range(0,240):\n",
    "    # time.sleep_us(1)\n",
    "    for y in range(0, 240):\n",
    "        color = st7789.color565(\n",
    "                        random.getrandbits(8),\n",
    "                        random.getrandbits(8),\n",
    "                        random.getrandbits(8))\n",
    "        tft.pixel(x, y, color)"
   ]
  }
 ],
 "metadata": {
  "kernelspec": {
   "display_name": "MicroPython - USB",
   "language": "micropython",
   "name": "micropython"
  },
  "language_info": {
   "codemirror_mode": "python",
   "file_extension": ".py",
   "mimetype": "text/python",
   "name": "micropython"
  }
 },
 "nbformat": 4,
 "nbformat_minor": 2
}
